{
 "nbformat": 4,
 "nbformat_minor": 2,
 "metadata": {
  "language_info": {
   "name": "python",
   "codemirror_mode": {
    "name": "ipython",
    "version": 3
   },
   "version": "3.7.4-final"
  },
  "orig_nbformat": 2,
  "file_extension": ".py",
  "mimetype": "text/x-python",
  "name": "python",
  "npconvert_exporter": "python",
  "pygments_lexer": "ipython3",
  "version": 3,
  "kernelspec": {
   "name": "python37464bit5534ad4a01af4be4967ec611e0535010",
   "display_name": "Python 3.7.4 64-bit"
  }
 },
 "cells": [
  {
   "cell_type": "markdown",
   "execution_count": null,
   "metadata": {},
   "outputs": [],
   "source": [
    "# big o notation\n",
    "\n",
    "In the jupyter notebook below, there are several code blocks that were used in the slide deck (found [here](https://docs.google.com/presentation/d/1MRR4l0vR3BpB3fLDgen0_lExdQ2a90E6No-5LK6vMzE/edit?usp=sharing \"slide deck\")). The purpose of this is to allow a user (you) to become more accustomed to the examples, see how it works, and add variables to help you count (if necessary) to measure how long the complexities are.\n",
    "\n",
    "Challenge yourself by seeing if you can guess the runtime / space complexities of each of the code blocks! (answers are below)"
   ]
  },
  {
   "cell_type": "markdown",
   "execution_count": null,
   "metadata": {},
   "outputs": [],
   "source": [
    "## add vs multiply\n",
    "\n",
    "In the case below, we will explore the difference between \"adding\" and \"multiplying\" when it comes to calculating Big O notation. \n",
    "As covered in the slides, the add case occurs when we do A things followed by B things. This results in A + B total operations. \n",
    "On the other hand, when we do A things, and B things for each of those, we result in A * B operations."
   ]
  },
  {
   "cell_type": "code",
   "execution_count": null,
   "metadata": {},
   "outputs": [],
   "source": [
    "## add case\n",
    "arr_a = [1, 2, 3, 4, 5]\n",
    "arr_b = [5, 4, 3, 2, 1]\n",
    "count = 0\n",
    "for elem_a in arr_a:\n",
    "    count += 1 \n",
    "    print(elem_a)\n",
    "\n",
    "for elem_b in arr_b:\n",
    "    count+= 1\n",
    "    # print(elem_b)\n",
    "print(count) \n",
    "\n",
    "## multiply case\n",
    "arr_a = [1, 2, 3, 4, 5]\n",
    "arr_b = [5, 4, 3, 2, 1]\n",
    "count = 0\n",
    "for elem_a in arr_a:\n",
    "    for elem_b in arr_b:\n",
    "        # print(elem_a, \",\", elem_b)\n",
    "        count += 1 \n",
    "print(count)\n"
   ]
  },
  {
   "cell_type": "markdown",
   "execution_count": null,
   "metadata": {},
   "outputs": [],
   "source": [
    "## two sum 2 ways\n",
    "\n",
    "One coding question that you'll run into often is Two Sum. It's a beginner algorithm question that gives the user an input array and a target number. The user's job is to write a program that'll find two numbers (if any) from the array that will sum up to that target number.\n",
    "\n",
    "In the code blocks below, there are two given methods to solve two sum. Note that there's a trade off made when going from the brute force method to the set method. What is it, and how much of a difference does this make (in regards to run time and space complexity)?\n"
   ]
  },
  {
   "cell_type": "code",
   "execution_count": null,
   "metadata": {},
   "outputs": [],
   "source": [
    "my_arr = [5, 4, 1, 2, 7]\n",
    "target = 5\n",
    "\n",
    "# brute force method\n",
    "two_nums_brute = []\n",
    "for i in range(len(my_arr)-1):\n",
    "    for j in range(i+1, len(my_arr)):\n",
    "        if my_arr[i] + my_arr[j] == target:\n",
    "            two_nums_brute.append(my_arr[i])\n",
    "            two_nums_brute.append(my_arr[j])\n",
    "print(two_nums_brute)\n",
    "\n",
    "# set method\n",
    "two_nums = []\n",
    "check = set()\n",
    "for i in range(len(my_arr)):\n",
    "    if my_arr[i] in check:\n",
    "        two_nums.append(my_arr[i])\n",
    "        two_nums.append(target-my_arr[i])\n",
    "    else:\n",
    "        check.add(target-my_arr[i])\n",
    "print(two_nums)"
   ]
  },
  {
   "cell_type": "markdown",
   "execution_count": null,
   "metadata": {},
   "outputs": [],
   "source": [
    "## recursive multiplication\n",
    "\n",
    "The program below takes in a multiplicand and multiplier, and multiplies them together by recursively adding the number by itself until the multiplier reaches 0. How long does this program take to execute, and what's the space complexity (# of stack calls)?"
   ]
  },
  {
   "cell_type": "code",
   "execution_count": null,
   "metadata": {},
   "outputs": [],
   "source": [
    "def multiplication(multiplicand, multiplier):\n",
    "    if multiplier <= 0:\n",
    "        return 0\n",
    "    return multiplicand + multiplication(multiplicand, multiplier - 1) \n",
    "print(multiplication(2,3))"
   ]
  },
  {
   "cell_type": "markdown",
   "execution_count": null,
   "metadata": {},
   "outputs": [],
   "source": [
    "## iterate and add\n",
    "\n",
    "In the code block below, we iterate through a given array, and add it by itself using a nested for loop. What's the run time?"
   ]
  },
  {
   "cell_type": "code",
   "execution_count": null,
   "metadata": {},
   "outputs": [],
   "source": [
    "arr_a = [1, 2, 3, 4, 5, 6, 7]\n",
    "arr_store = []\n",
    "\n",
    "for i in range(len(arr_a)):\n",
    "    for j in range(len(arr_a) // 2):\n",
    "        arr_store.append(arr_a[j] + arr_a[i])\n",
    "        print(arr_a[i], arr_a[j] + arr_a[i]) \n",
    "\n",
    "print(arr_store)"
   ]
  },
  {
   "cell_type": "markdown",
   "execution_count": null,
   "metadata": {},
   "outputs": [],
   "source": [
    "## fibonacci\n",
    "\n",
    "Doing fibonacci recursively means that after each step, we call more versions of fibonacci with lower numbers until we eventually get to the end ansewr. There are limitations to this method, and one of them is the run time (and space complexity?). "
   ]
  },
  {
   "cell_type": "code",
   "execution_count": null,
   "metadata": {},
   "outputs": [],
   "source": [
    "def fib(number):\n",
    "    if number <= 1:\n",
    "        return 1\n",
    "    return fib(number - 1) + fib(number - 2)\n",
    "\n",
    "print(fib(5))\n"
   ]
  },
  {
   "cell_type": "markdown",
   "execution_count": null,
   "metadata": {},
   "outputs": [],
   "source": [
    "## factorial calculator\n",
    "\n",
    "n! = (n-1)(n-2)(n-3)...1\n",
    "\n",
    "So, what's the runtime of the below recursive factorial program?"
   ]
  },
  {
   "cell_type": "code",
   "execution_count": null,
   "metadata": {},
   "outputs": [],
   "source": [
    "def factorial(number):\n",
    "    if n < 0:\n",
    "        return -1\n",
    "    elif n == 0:\n",
    "        return 1\n",
    "    else:\n",
    "        return factorial(n - 1) * n\n",
    "\n",
    "print(factorial(4)) # 4! = 4 * 3 * 2 * 1 = 24"
   ]
  },
  {
   "cell_type": "markdown",
   "execution_count": null,
   "metadata": {},
   "outputs": [],
   "source": [
    "## final\n",
    "\n",
    "If you made it this far, congratulations! You're almost done with this. What's the runtime of the code block below?"
   ]
  },
  {
   "cell_type": "code",
   "execution_count": null,
   "metadata": {},
   "outputs": [],
   "source": [
    "odd_arr= [1, 3, 5, 7, 9, 11, 13]\n",
    "\n",
    "for element in odd_arr:\n",
    "    for i in range(5):\n",
    "        print(element * i)\n",
    "    print(\"-----\")\n"
   ]
  },
  {
   "cell_type": "markdown",
   "execution_count": null,
   "metadata": {},
   "outputs": [],
   "source": [
    "-----------------------------\n",
    "\n",
    "## answer guide\n",
    "\n",
    "### add v multiply\n",
    "\n",
    "1. O(a + b) time, O(1) space\n",
    "2. O(a * b) time, O(1) space\n",
    "\n",
    "### two sum 2 ways\n",
    "\n",
    "1. O(n^2) time, O(1) space\n",
    "2. O(n) time,   O(1) space\n",
    "\n",
    "### recursive multiplication\n",
    "\n",
    "O(n) time, O(n) space\n",
    "\n",
    "### iterate and add\n",
    "\n",
    "O(n^2) time, O(n) space\n",
    "\n",
    "### fibonacci \n",
    "\n",
    "O(2^n) time, O(n) space\n",
    "\n",
    "### factorial\n",
    "\n",
    "O(n) time, O(n) space\n",
    "\n",
    "### final\n",
    "\n",
    "O(n) time\n",
    "\n"
   ]
  }
 ]
}