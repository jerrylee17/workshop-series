{
 "cells": [
  {
   "cell_type": "markdown",
   "metadata": {},
   "source": [
    "# Trees\n",
    "\n",
    "Trees are a hierarchal data structure made up of nodes. To be honest, I have never used them outside of competitive programming or interviews, but they seem to be important and relevant somehow. For this workshop, I will be teaching binary trees (with the exception of a Trie) since they are the most common trees.\n",
    "\n",
    "\n",
    "Some topics that will be covered are:\n",
    "\n",
    "1. Tree/Node structure\n",
    "1. Trie\n",
    "1. Traversing\n",
    "1. Competitive programming\n"
   ]
  },
  {
   "cell_type": "markdown",
   "metadata": {},
   "source": [
    "Run the command below to import the module required to display trees"
   ]
  },
  {
   "cell_type": "code",
   "execution_count": null,
   "metadata": {},
   "outputs": [],
   "source": [
    "from graphviz import Digraph"
   ]
  },
  {
   "cell_type": "markdown",
   "metadata": {},
   "source": [
    "## Tree structure\n",
    "\n",
    "First, we need to define the structure of a node within a tree. A node will usually have a value and pointers to its children. However, when the tree gets more complicated, it may have more attributes"
   ]
  },
  {
   "cell_type": "code",
   "execution_count": null,
   "metadata": {},
   "outputs": [],
   "source": [
    "class TreeNode:\n",
    "    def __init__(self, val):\n",
    "        self.val = val\n",
    "        self.left = None\n",
    "        self.right = None\n",
    "        # Note that there may be different variations in this\n",
    "        # Some Tree structures may have the self.children\n",
    "        # in place of left/right (self.children = None)"
   ]
  },
  {
   "cell_type": "markdown",
   "metadata": {},
   "source": [
    "Now that the node has been declared, it is time to make a tree!"
   ]
  },
  {
   "cell_type": "code",
   "execution_count": null,
   "metadata": {},
   "outputs": [],
   "source": [
    "# Hardcoding the tree (bad idea)\n",
    "root = TreeNode(1)\n",
    "root.left = TreeNode(2)\n",
    "root.right = TreeNode(3)\n",
    "root.left.left = TreeNode(4)\n",
    "root.left.right = TreeNode(5)\n",
    "root.right.left = TreeNode(6)\n",
    "root.right.right = TreeNode(7)\n",
    "\n",
    "# Visualizing the tree\n",
    "def visualizeTree(root):\n",
    "    # Tree\n",
    "    tree = Digraph()\n",
    "    # Append root node\n",
    "    tree.node(str(root.val))\n",
    "    # Helper function to append nodes\n",
    "    def appendChildrenNodes(node):\n",
    "        # Node doesn't exist leave this thing\n",
    "        if not node:\n",
    "            return\n",
    "        # Left child\n",
    "        if node.left:\n",
    "            # Create node\n",
    "            tree.node(str(node.left.val))\n",
    "            # Create and append edge\n",
    "            edge = str(node.val) + str(node.left.val)\n",
    "            tree.edges([edge])\n",
    "            # Do the same thing on the left child\n",
    "            appendChildrenNodes(node.left)\n",
    "        # Right child\n",
    "        if node.right:\n",
    "            # Create node\n",
    "            tree.node(str(node.right.val))\n",
    "            # create and append edge\n",
    "            edge = str(node.val) + str(node.right.val)\n",
    "            tree.edges([edge])\n",
    "            # Do the same thing on the right child\n",
    "            appendChildrenNodes(node.right)\n",
    "    # Append children\n",
    "    appendChildrenNodes(root)\n",
    "    display(tree)\n",
    "\n",
    "# Visualize the tree\n",
    "visualizeTree(root)\n",
    "    "
   ]
  },
  {
   "cell_type": "markdown",
   "metadata": {},
   "source": [
    "The thing generated above is the general hierarchal structure of a binary tree. On the top of the tree, we have the root node (Node 1). The root node has 2 childiren: Nodes 2 and 3. "
   ]
  },
  {
   "cell_type": "markdown",
   "metadata": {},
   "source": [
    "## Tree Traversal\n",
    "\n",
    "Tree traversal is used when you want to print out the elements of a tree. The three main methods of tree traversal are *inorder*, *preorder*, *postorder*. \n",
    "\n",
    "*Inorder traversal* prints in the order of left, parent, right. In the tree example we have above, inorder will yield 4,2,5,1,6,3,7.\n",
    "\n",
    "*Preorder traversal* prints in the order of parent, left, right. In the tree example, preorder yields 1,2,4,5,3,6,7\n",
    "\n",
    "*Postorder traversal* prints in the order of right, left, parent. In the example, we get 7,6,3,5,4,2,1"
   ]
  },
  {
   "cell_type": "markdown",
   "metadata": {},
   "source": [
    "#### Inorder traversal implementation\n",
    "\n",
    "The inorder traversal implementation can be seen below"
   ]
  },
  {
   "cell_type": "code",
   "execution_count": null,
   "metadata": {},
   "outputs": [],
   "source": [
    "def inOrderTraversal(node):\n",
    "    # if the node\n",
    "    if not node:\n",
    "        return\n",
    "    inOrderTraversal(node.left)\n",
    "    print(node.val)\n",
    "    inOrderTraversal(node.right)\n",
    "\n",
    "inOrderTraversal(root)"
   ]
  },
  {
   "cell_type": "markdown",
   "metadata": {},
   "source": [
    "Looks simple, right? Try implementing your own *preorder* and *postorder* traversal"
   ]
  },
  {
   "cell_type": "markdown",
   "metadata": {},
   "source": [
    "#### Preorder traversal\n",
    "\n",
    "Implement the Preorder traversal here!\n"
   ]
  },
  {
   "cell_type": "code",
   "execution_count": null,
   "metadata": {},
   "outputs": [],
   "source": [
    "# Pre order traversal\n",
    "def preOrderTraversal(node):\n",
    "    # Put your code here\n",
    "    pass\n",
    "\n",
    "\n",
    "preOrderTraversal(root)"
   ]
  },
  {
   "cell_type": "markdown",
   "metadata": {},
   "source": [
    "#### Postorder traversal\n",
    "\n",
    "Implement the Postorder traversal here!"
   ]
  },
  {
   "cell_type": "code",
   "execution_count": null,
   "metadata": {},
   "outputs": [],
   "source": [
    "# Post order traversal\n",
    "def postOrderTraversal(node):\n",
    "    # Put your code here\n",
    "    pass\n",
    "\n",
    "\n",
    "postOrderTraversal(root)"
   ]
  },
  {
   "cell_type": "markdown",
   "metadata": {},
   "source": [
    "# Trie\n",
    "\n",
    "A Trie is literally a tree of characters/combination of characters. Instead of storing integers, it stores words. Every node in a trie has a value, children (often more than a binary tree), and a marker determining if it is the end of a word"
   ]
  },
  {
   "cell_type": "code",
   "execution_count": null,
   "metadata": {},
   "outputs": [],
   "source": [
    "class TrieNode:\n",
    "    def __init__(self, val, id = 0):\n",
    "        self.val = val\n",
    "        self.children = []\n",
    "        self.end = False\n",
    "        # For visualization -- ignore this parameter\n",
    "        self._id = id"
   ]
  },
  {
   "cell_type": "markdown",
   "metadata": {},
   "source": [
    "Now time to populate the Trie!"
   ]
  },
  {
   "cell_type": "code",
   "execution_count": 12,
   "metadata": {},
   "outputs": [],
   "source": [
    "# Visualizing the trie\n",
    "def visualizeTrie(root):\n",
    "    # Tree\n",
    "    trie = Digraph()\n",
    "    # Append root node\n",
    "    trie.node(str(root._id), str(root.val))\n",
    "    # Helper function to append nodes\n",
    "    def appendChildrenNodes(node):\n",
    "        # Node doesn't exist leave this thing\n",
    "        if not node:\n",
    "            return\n",
    "        # Make node for each child\n",
    "        for child in node.children:\n",
    "            # Create node\n",
    "            trie.node(\n",
    "                str(child._id), \n",
    "                str(child.val), \n",
    "                shape=('square' if child.end else 'circle'), \n",
    "                width='0.5', \n",
    "                height='0.5'\n",
    "            )\n",
    "            # Append edge\n",
    "            trie.edge(str(node._id), str(child._id))\n",
    "            # Do the same thing on the left child\n",
    "            appendChildrenNodes(child)\n",
    "    \n",
    "    # Append children\n",
    "    appendChildrenNodes(root)\n",
    "    display(trie)"
   ]
  },
  {
   "cell_type": "code",
   "execution_count": 14,
   "metadata": {},
   "outputs": [
    {
     "data": {
      "image/svg+xml": [
       "<?xml version=\"1.0\" encoding=\"UTF-8\" standalone=\"no\"?>\n",
       "<!DOCTYPE svg PUBLIC \"-//W3C//DTD SVG 1.1//EN\"\n",
       " \"http://www.w3.org/Graphics/SVG/1.1/DTD/svg11.dtd\">\n",
       "<!-- Generated by graphviz version 2.40.1 (20161225.0304)\n",
       " -->\n",
       "<!-- Title: %3 Pages: 1 -->\n",
       "<svg width=\"206pt\" height=\"476pt\"\n",
       " viewBox=\"0.00 0.00 206.00 476.00\" xmlns=\"http://www.w3.org/2000/svg\" xmlns:xlink=\"http://www.w3.org/1999/xlink\">\n",
       "<g id=\"graph0\" class=\"graph\" transform=\"scale(1 1) rotate(0) translate(4 472)\">\n",
       "<title>%3</title>\n",
       "<polygon fill=\"#ffffff\" stroke=\"transparent\" points=\"-4,4 -4,-472 202,-472 202,4 -4,4\"/>\n",
       "<!-- 0 -->\n",
       "<g id=\"node1\" class=\"node\">\n",
       "<title>0</title>\n",
       "<ellipse fill=\"none\" stroke=\"#000000\" cx=\"99\" cy=\"-450\" rx=\"27\" ry=\"18\"/>\n",
       "<text text-anchor=\"middle\" x=\"99\" y=\"-446.3\" font-family=\"Times,serif\" font-size=\"14.00\" fill=\"#000000\"> </text>\n",
       "</g>\n",
       "<!-- 1 -->\n",
       "<g id=\"node2\" class=\"node\">\n",
       "<title>1</title>\n",
       "<ellipse fill=\"none\" stroke=\"#000000\" cx=\"18\" cy=\"-378\" rx=\"18\" ry=\"18\"/>\n",
       "<text text-anchor=\"middle\" x=\"18\" y=\"-374.3\" font-family=\"Times,serif\" font-size=\"14.00\" fill=\"#000000\">t</text>\n",
       "</g>\n",
       "<!-- 0&#45;&gt;1 -->\n",
       "<g id=\"edge1\" class=\"edge\">\n",
       "<title>0&#45;&gt;1</title>\n",
       "<path fill=\"none\" stroke=\"#000000\" d=\"M82.6084,-435.4297C70.088,-424.3005 52.7345,-408.8751 39.1648,-396.8131\"/>\n",
       "<polygon fill=\"#000000\" stroke=\"#000000\" points=\"41.477,-394.1856 31.6776,-390.1578 36.8264,-399.4174 41.477,-394.1856\"/>\n",
       "</g>\n",
       "<!-- 5 -->\n",
       "<g id=\"node6\" class=\"node\">\n",
       "<title>5</title>\n",
       "<ellipse fill=\"none\" stroke=\"#000000\" cx=\"72\" cy=\"-378\" rx=\"18\" ry=\"18\"/>\n",
       "<text text-anchor=\"middle\" x=\"72\" y=\"-374.3\" font-family=\"Times,serif\" font-size=\"14.00\" fill=\"#000000\">i</text>\n",
       "</g>\n",
       "<!-- 0&#45;&gt;5 -->\n",
       "<g id=\"edge5\" class=\"edge\">\n",
       "<title>0&#45;&gt;5</title>\n",
       "<path fill=\"none\" stroke=\"#000000\" d=\"M92.3258,-432.2022C89.2065,-423.884 85.4274,-413.8064 81.9781,-404.6082\"/>\n",
       "<polygon fill=\"#000000\" stroke=\"#000000\" points=\"85.1999,-403.2316 78.4115,-395.0972 78.6456,-405.6895 85.1999,-403.2316\"/>\n",
       "</g>\n",
       "<!-- 7 -->\n",
       "<g id=\"node8\" class=\"node\">\n",
       "<title>7</title>\n",
       "<polygon fill=\"none\" stroke=\"#000000\" points=\"144,-396 108,-396 108,-360 144,-360 144,-396\"/>\n",
       "<text text-anchor=\"middle\" x=\"126\" y=\"-374.3\" font-family=\"Times,serif\" font-size=\"14.00\" fill=\"#000000\">a</text>\n",
       "</g>\n",
       "<!-- 0&#45;&gt;7 -->\n",
       "<g id=\"edge7\" class=\"edge\">\n",
       "<title>0&#45;&gt;7</title>\n",
       "<path fill=\"none\" stroke=\"#000000\" d=\"M105.6742,-432.2022C108.6695,-424.2146 112.2733,-414.6045 115.6092,-405.7087\"/>\n",
       "<polygon fill=\"#000000\" stroke=\"#000000\" points=\"118.9809,-406.6854 119.2151,-396.0931 112.4266,-404.2275 118.9809,-406.6854\"/>\n",
       "</g>\n",
       "<!-- 8 -->\n",
       "<g id=\"node9\" class=\"node\">\n",
       "<title>8</title>\n",
       "<ellipse fill=\"none\" stroke=\"#000000\" cx=\"180\" cy=\"-378\" rx=\"18\" ry=\"18\"/>\n",
       "<text text-anchor=\"middle\" x=\"180\" y=\"-374.3\" font-family=\"Times,serif\" font-size=\"14.00\" fill=\"#000000\">p</text>\n",
       "</g>\n",
       "<!-- 0&#45;&gt;8 -->\n",
       "<g id=\"edge8\" class=\"edge\">\n",
       "<title>0&#45;&gt;8</title>\n",
       "<path fill=\"none\" stroke=\"#000000\" d=\"M115.3916,-435.4297C127.912,-424.3005 145.2655,-408.8751 158.8352,-396.8131\"/>\n",
       "<polygon fill=\"#000000\" stroke=\"#000000\" points=\"161.1736,-399.4174 166.3224,-390.1578 156.523,-394.1856 161.1736,-399.4174\"/>\n",
       "</g>\n",
       "<!-- 2 -->\n",
       "<g id=\"node3\" class=\"node\">\n",
       "<title>2</title>\n",
       "<ellipse fill=\"none\" stroke=\"#000000\" cx=\"18\" cy=\"-306\" rx=\"18\" ry=\"18\"/>\n",
       "<text text-anchor=\"middle\" x=\"18\" y=\"-302.3\" font-family=\"Times,serif\" font-size=\"14.00\" fill=\"#000000\">h</text>\n",
       "</g>\n",
       "<!-- 1&#45;&gt;2 -->\n",
       "<g id=\"edge2\" class=\"edge\">\n",
       "<title>1&#45;&gt;2</title>\n",
       "<path fill=\"none\" stroke=\"#000000\" d=\"M18,-359.8314C18,-352.131 18,-342.9743 18,-334.4166\"/>\n",
       "<polygon fill=\"#000000\" stroke=\"#000000\" points=\"21.5001,-334.4132 18,-324.4133 14.5001,-334.4133 21.5001,-334.4132\"/>\n",
       "</g>\n",
       "<!-- 3 -->\n",
       "<g id=\"node4\" class=\"node\">\n",
       "<title>3</title>\n",
       "<ellipse fill=\"none\" stroke=\"#000000\" cx=\"18\" cy=\"-234\" rx=\"18\" ry=\"18\"/>\n",
       "<text text-anchor=\"middle\" x=\"18\" y=\"-230.3\" font-family=\"Times,serif\" font-size=\"14.00\" fill=\"#000000\">a</text>\n",
       "</g>\n",
       "<!-- 2&#45;&gt;3 -->\n",
       "<g id=\"edge3\" class=\"edge\">\n",
       "<title>2&#45;&gt;3</title>\n",
       "<path fill=\"none\" stroke=\"#000000\" d=\"M18,-287.8314C18,-280.131 18,-270.9743 18,-262.4166\"/>\n",
       "<polygon fill=\"#000000\" stroke=\"#000000\" points=\"21.5001,-262.4132 18,-252.4133 14.5001,-262.4133 21.5001,-262.4132\"/>\n",
       "</g>\n",
       "<!-- 4 -->\n",
       "<g id=\"node5\" class=\"node\">\n",
       "<title>4</title>\n",
       "<polygon fill=\"none\" stroke=\"#000000\" points=\"36,-180 0,-180 0,-144 36,-144 36,-180\"/>\n",
       "<text text-anchor=\"middle\" x=\"18\" y=\"-158.3\" font-family=\"Times,serif\" font-size=\"14.00\" fill=\"#000000\">i</text>\n",
       "</g>\n",
       "<!-- 3&#45;&gt;4 -->\n",
       "<g id=\"edge4\" class=\"edge\">\n",
       "<title>3&#45;&gt;4</title>\n",
       "<path fill=\"none\" stroke=\"#000000\" d=\"M18,-215.8314C18,-208.131 18,-198.9743 18,-190.4166\"/>\n",
       "<polygon fill=\"#000000\" stroke=\"#000000\" points=\"21.5001,-190.4132 18,-180.4133 14.5001,-190.4133 21.5001,-190.4132\"/>\n",
       "</g>\n",
       "<!-- 6 -->\n",
       "<g id=\"node7\" class=\"node\">\n",
       "<title>6</title>\n",
       "<polygon fill=\"none\" stroke=\"#000000\" points=\"90,-324 54,-324 54,-288 90,-288 90,-324\"/>\n",
       "<text text-anchor=\"middle\" x=\"72\" y=\"-302.3\" font-family=\"Times,serif\" font-size=\"14.00\" fill=\"#000000\">s</text>\n",
       "</g>\n",
       "<!-- 5&#45;&gt;6 -->\n",
       "<g id=\"edge6\" class=\"edge\">\n",
       "<title>5&#45;&gt;6</title>\n",
       "<path fill=\"none\" stroke=\"#000000\" d=\"M72,-359.8314C72,-352.131 72,-342.9743 72,-334.4166\"/>\n",
       "<polygon fill=\"#000000\" stroke=\"#000000\" points=\"75.5001,-334.4132 72,-324.4133 68.5001,-334.4133 75.5001,-334.4132\"/>\n",
       "</g>\n",
       "<!-- 9 -->\n",
       "<g id=\"node10\" class=\"node\">\n",
       "<title>9</title>\n",
       "<ellipse fill=\"none\" stroke=\"#000000\" cx=\"180\" cy=\"-306\" rx=\"18\" ry=\"18\"/>\n",
       "<text text-anchor=\"middle\" x=\"180\" y=\"-302.3\" font-family=\"Times,serif\" font-size=\"14.00\" fill=\"#000000\">o</text>\n",
       "</g>\n",
       "<!-- 8&#45;&gt;9 -->\n",
       "<g id=\"edge9\" class=\"edge\">\n",
       "<title>8&#45;&gt;9</title>\n",
       "<path fill=\"none\" stroke=\"#000000\" d=\"M180,-359.8314C180,-352.131 180,-342.9743 180,-334.4166\"/>\n",
       "<polygon fill=\"#000000\" stroke=\"#000000\" points=\"183.5001,-334.4132 180,-324.4133 176.5001,-334.4133 183.5001,-334.4132\"/>\n",
       "</g>\n",
       "<!-- 10 -->\n",
       "<g id=\"node11\" class=\"node\">\n",
       "<title>10</title>\n",
       "<ellipse fill=\"none\" stroke=\"#000000\" cx=\"180\" cy=\"-234\" rx=\"18\" ry=\"18\"/>\n",
       "<text text-anchor=\"middle\" x=\"180\" y=\"-230.3\" font-family=\"Times,serif\" font-size=\"14.00\" fill=\"#000000\">t</text>\n",
       "</g>\n",
       "<!-- 9&#45;&gt;10 -->\n",
       "<g id=\"edge10\" class=\"edge\">\n",
       "<title>9&#45;&gt;10</title>\n",
       "<path fill=\"none\" stroke=\"#000000\" d=\"M180,-287.8314C180,-280.131 180,-270.9743 180,-262.4166\"/>\n",
       "<polygon fill=\"#000000\" stroke=\"#000000\" points=\"183.5001,-262.4132 180,-252.4133 176.5001,-262.4133 183.5001,-262.4132\"/>\n",
       "</g>\n",
       "<!-- 11 -->\n",
       "<g id=\"node12\" class=\"node\">\n",
       "<title>11</title>\n",
       "<ellipse fill=\"none\" stroke=\"#000000\" cx=\"180\" cy=\"-162\" rx=\"18\" ry=\"18\"/>\n",
       "<text text-anchor=\"middle\" x=\"180\" y=\"-158.3\" font-family=\"Times,serif\" font-size=\"14.00\" fill=\"#000000\">a</text>\n",
       "</g>\n",
       "<!-- 10&#45;&gt;11 -->\n",
       "<g id=\"edge11\" class=\"edge\">\n",
       "<title>10&#45;&gt;11</title>\n",
       "<path fill=\"none\" stroke=\"#000000\" d=\"M180,-215.8314C180,-208.131 180,-198.9743 180,-190.4166\"/>\n",
       "<polygon fill=\"#000000\" stroke=\"#000000\" points=\"183.5001,-190.4132 180,-180.4133 176.5001,-190.4133 183.5001,-190.4132\"/>\n",
       "</g>\n",
       "<!-- 12 -->\n",
       "<g id=\"node13\" class=\"node\">\n",
       "<title>12</title>\n",
       "<ellipse fill=\"none\" stroke=\"#000000\" cx=\"180\" cy=\"-90\" rx=\"18\" ry=\"18\"/>\n",
       "<text text-anchor=\"middle\" x=\"180\" y=\"-86.3\" font-family=\"Times,serif\" font-size=\"14.00\" fill=\"#000000\">t</text>\n",
       "</g>\n",
       "<!-- 11&#45;&gt;12 -->\n",
       "<g id=\"edge12\" class=\"edge\">\n",
       "<title>11&#45;&gt;12</title>\n",
       "<path fill=\"none\" stroke=\"#000000\" d=\"M180,-143.8314C180,-136.131 180,-126.9743 180,-118.4166\"/>\n",
       "<polygon fill=\"#000000\" stroke=\"#000000\" points=\"183.5001,-118.4132 180,-108.4133 176.5001,-118.4133 183.5001,-118.4132\"/>\n",
       "</g>\n",
       "<!-- 13 -->\n",
       "<g id=\"node14\" class=\"node\">\n",
       "<title>13</title>\n",
       "<polygon fill=\"none\" stroke=\"#000000\" points=\"198,-36 162,-36 162,0 198,0 198,-36\"/>\n",
       "<text text-anchor=\"middle\" x=\"180\" y=\"-14.3\" font-family=\"Times,serif\" font-size=\"14.00\" fill=\"#000000\">o</text>\n",
       "</g>\n",
       "<!-- 12&#45;&gt;13 -->\n",
       "<g id=\"edge13\" class=\"edge\">\n",
       "<title>12&#45;&gt;13</title>\n",
       "<path fill=\"none\" stroke=\"#000000\" d=\"M180,-71.8314C180,-64.131 180,-54.9743 180,-46.4166\"/>\n",
       "<polygon fill=\"#000000\" stroke=\"#000000\" points=\"183.5001,-46.4132 180,-36.4133 176.5001,-46.4133 183.5001,-46.4132\"/>\n",
       "</g>\n",
       "</g>\n",
       "</svg>\n"
      ],
      "text/plain": [
       "<graphviz.dot.Digraph at 0x7fef844f8e10>"
      ]
     },
     "metadata": {},
     "output_type": "display_data"
    }
   ],
   "source": [
    "words = ['tree', 'treehouse', 'trees', 'thanks', 'software', 'tricycle']\n",
    "# words = ['thai', 'is', 'a', 'potato']\n",
    "\n",
    "# Make root node\n",
    "trieroot = TrieNode(' ')\n",
    "# Helper function to populate trie based on word\n",
    "def addWord(root, word):\n",
    "    # The end of a word\n",
    "    if len(word) == 0:\n",
    "        root.end = True\n",
    "        return\n",
    "    # Traverse children to find the next node\n",
    "    # If child not found then add it\n",
    "    for child in root.children:\n",
    "        # Found correct child\n",
    "        if child.val == word[0]:\n",
    "            addWord(child, word[1:])\n",
    "            break\n",
    "    # If child not found, make new node\n",
    "    else:\n",
    "        newNode = TrieNode(word[0])\n",
    "        root.children.append(newNode)\n",
    "        addWord(root.children[-1], word[1:])\n",
    "\n",
    "# Iterate through the words\n",
    "for word in words:\n",
    "    # Iterate through characters in the word\n",
    "    addWord(trieroot, word)\n",
    "\n",
    "# Give nodes ID's for visualization\n",
    "def giveID(root, queue):\n",
    "    elements = getElements(root, queue)\n",
    "    root._id = 0\n",
    "    i = 1\n",
    "    for elem in queue:\n",
    "        elem._id = i\n",
    "        i += 1\n",
    "\n",
    "# Helper function for visualization\n",
    "def getElements(root, queue):\n",
    "    for child in root.children:\n",
    "        queue.append(child)\n",
    "        giveID(child, queue)\n",
    "    return queue\n",
    "\n",
    "giveID(trieroot, [])\n",
    "visualizeTrie(trieroot)"
   ]
  },
  {
   "cell_type": "markdown",
   "metadata": {},
   "source": [
    "Observe the trie. What is so special about this data structure?"
   ]
  },
  {
   "cell_type": "markdown",
   "metadata": {},
   "source": [
    "### Your turn! \n",
    "\n",
    "Create a function to insert a new word in the trie without copying my insert word code :)"
   ]
  },
  {
   "cell_type": "code",
   "execution_count": null,
   "metadata": {},
   "outputs": [],
   "source": [
    "# Create function here!\n",
    "def insertWord(root, word):\n",
    "    # Put your code here!\n",
    "    pass\n",
    "\n",
    "insertWord(trieroot, 'sce')"
   ]
  },
  {
   "cell_type": "code",
   "execution_count": null,
   "metadata": {},
   "outputs": [],
   "source": []
  }
 ],
 "metadata": {
  "kernelspec": {
   "display_name": "Python 3",
   "language": "python",
   "name": "python3"
  },
  "language_info": {
   "codemirror_mode": {
    "name": "ipython",
    "version": 3
   },
   "file_extension": ".py",
   "mimetype": "text/x-python",
   "name": "python",
   "nbconvert_exporter": "python",
   "pygments_lexer": "ipython3",
   "version": "3.6.9"
  }
 },
 "nbformat": 4,
 "nbformat_minor": 2
}
