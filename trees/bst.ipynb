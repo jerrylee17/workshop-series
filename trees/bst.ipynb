{
 "cells": [
  {
   "cell_type": "markdown",
   "metadata": {},
   "source": [
    "# Binary Search Trees\n",
    "Agenda\n",
    "1. BST Structure and Basic Operations\n",
    "2. Traversals\n",
    "3. Self-Balancing Trees\n",
    "3. Practice Problems\n",
    "\n",
    "# Structure\n",
    "\n",
    "Binary Search Trees are binary trees with special properties. Each bst node has two child nodes: left and right.\n",
    "1. The value of the left child node is less than the value of the node\n",
    "2. The value of the right child node is greater than the value of node\n",
    "\n",
    "Overall\n",
    "1. nodes of the left subtree have values less than the node's value\n",
    "2. nodes of the right subtree have values greater than the node's value\n",
    "3. each subtree is a binary search tree\n",
    "\n",
    "<img src=\"https://cdn.programiz.com/sites/tutorial2program/files/bst-vs-not-bst.png\">"
   ]
  },
  {
   "cell_type": "markdown",
   "metadata": {},
   "source": [
    "# Basic Operations\n",
    "\n",
    "Insertion, deletion, and retrieval take O(h) time, where h is the height of the bst\n",
    "- Best case: O(logn)\n",
    "- Average case: O(logn)\n",
    "- Worst case: O(n)\n",
    "\n",
    "Ideally, the height of a binary search tree would be logn, where n is the number of nodes, for faster insertion, deletion, and retrieval. Self-balancing trees, AVLs and Red-Black Trees, are used for faster, O(logn), operations.\n"
   ]
  },
  {
   "cell_type": "code",
   "execution_count": null,
   "metadata": {},
   "outputs": [],
   "source": [
    "from graphviz import Digraph"
   ]
  },
  {
   "cell_type": "code",
   "execution_count": null,
   "metadata": {},
   "outputs": [],
   "source": [
    "# Visualizing the tree\n",
    "def visualizeTree(root):\n",
    "    # Tree\n",
    "    tree = Digraph()\n",
    "    # Append root node\n",
    "    tree.node(str(root.val))\n",
    "    # Helper function to append nodes\n",
    "    def appendChildrenNodes(node):\n",
    "        # Node doesn't exist leave this thing\n",
    "        if not node:\n",
    "            return\n",
    "        # Left child\n",
    "        if node.left:\n",
    "            # Create node\n",
    "            tree.node(str(node.left.val))\n",
    "            # Create and append edge\n",
    "            edge = str(node.val) + str(node.left.val)\n",
    "            tree.edges([edge])\n",
    "            # Do the same thing on the left child\n",
    "            appendChildrenNodes(node.left)\n",
    "        # Right child\n",
    "        if node.right:\n",
    "            # Create node\n",
    "            tree.node(str(node.right.val))\n",
    "            # create and append edge\n",
    "            edge = str(node.val) + str(node.right.val)\n",
    "            tree.edges([edge])\n",
    "            # Do the same thing on the right child\n",
    "            appendChildrenNodes(node.right)\n",
    "    # Append children\n",
    "    appendChildrenNodes(root)\n",
    "    display(tree)"
   ]
  },
  {
   "cell_type": "code",
   "execution_count": null,
   "metadata": {},
   "outputs": [],
   "source": [
    "class TreeNode:\n",
    "    def __init__(self, val):\n",
    "        self.val = val\n",
    "        self.left = None\n",
    "        self.right = None\n",
    "        \n",
    "    def __str__(self):\n",
    "        return self.val"
   ]
  },
  {
   "cell_type": "code",
   "execution_count": null,
   "metadata": {},
   "outputs": [],
   "source": [
    "def insert(root,val):# no duplicates\n",
    "    if not root: #if root is None\n",
    "        return TreeNode(val)\n",
    "    else:\n",
    "        if val > root.val:\n",
    "            root.right = insert(root.right,val)\n",
    "        elif val < root.val:\n",
    "            root.left = insert(root.left,val)    \n",
    "    return root\n",
    "\n",
    "\n",
    "root = None\n",
    "nums = [4,2,3,6,9,5,1]\n",
    "for num in nums:\n",
    "    root = insert(root,num)\n",
    "\n",
    "visualizeTree(root)"
   ]
  },
  {
   "cell_type": "code",
   "execution_count": null,
   "metadata": {},
   "outputs": [],
   "source": [
    "def search(root,val):\n",
    "    # base case\n",
    "    if not root or root.val == val:\n",
    "        return root\n",
    "    \n",
    "    # ######your code here######## #\n",
    "    # traverse through the tree\n",
    "    \n",
    "    \n",
    "    # ############################ #\n",
    "\n",
    "foundNode = search(root, 11)\n",
    "print(foundNode)"
   ]
  },
  {
   "cell_type": "markdown",
   "metadata": {},
   "source": [
    "## Traversals\n",
    "1. Inorder     Left Node Right\n",
    "2. Preorder    Node Left Right\n",
    "3. Postorder   Left Right Node\n",
    "\n",
    "<img src=\"https://media.geeksforgeeks.org/wp-content/cdn-uploads/2009/11/BST.gif\"/>"
   ]
  },
  {
   "cell_type": "code",
   "execution_count": null,
   "metadata": {},
   "outputs": [],
   "source": [
    "def inorder(root):\n",
    "    # base case\n",
    "    if not root:\n",
    "        return\n",
    "    # traverse LNR\n",
    "    inorder(root.left)\n",
    "    print(root.val)\n",
    "    inorder(root.right)\n",
    "\n",
    "inorder(root)"
   ]
  },
  {
   "cell_type": "code",
   "execution_count": null,
   "metadata": {},
   "outputs": [],
   "source": [
    "def preorder(root):\n",
    "    ###########your code here#########\n",
    "    # base case\n",
    "    \n",
    "    # traverse NLR\n",
    "    # consider the order NLR\n",
    "    \n",
    "    ##################################\n",
    "preorder(root)"
   ]
  },
  {
   "cell_type": "code",
   "execution_count": null,
   "metadata": {},
   "outputs": [],
   "source": [
    "def postorder(root):\n",
    "    ###########your code here#########\n",
    "    #base case\n",
    "    \n",
    "    # traverse LRN\n",
    "    # consider the order LRN\n",
    "    \n",
    "    ##################################\n",
    "postorder(root)"
   ]
  },
  {
   "cell_type": "markdown",
   "metadata": {},
   "source": [
    "## Self Balancing Trees\n",
    "The advantage of using trees is the O(h) operation times, where h is the height of the tree. However, an unbalanced tree will not have a height of logn. Worst case run time would be O(n)."
   ]
  },
  {
   "cell_type": "code",
   "execution_count": null,
   "metadata": {},
   "outputs": [],
   "source": [
    "# For example:\n",
    "flatTree = None\n",
    "nums = [1,2,3]\n",
    "for num in nums:\n",
    "    flatTree = insert(flatTree,num)\n",
    "visualizeTree(flatTree)"
   ]
  },
  {
   "cell_type": "markdown",
   "metadata": {},
   "source": [
    "1. AVL Trees\n",
    "    - The height difference of each node's subtrees is at most 1\n",
    "    - We rotate/rebalance the tree as we insert or delete nodes to ensure that the tree remains balanced\n",
    "    - faster lookup than Red Black trees\n",
    "2. Red Black Trees\n",
    "    - each node is painted red or black\n",
    "    - we rotate/rebalance and repaint the tree as we insert or delete nodes\n",
    "    - balancing isn't as strict as AVLs\n",
    "    - faster insertion and deletion than AVLs because we do not rotate/rebalance as much"
   ]
  },
  {
   "cell_type": "code",
   "execution_count": null,
   "metadata": {},
   "outputs": [],
   "source": [
    "def getHeight(root):\n",
    "    if not root:\n",
    "        return 0\n",
    "    return max(getHeight(root.left), getHeight(root.right)) + 1\n",
    "\n",
    "getHeight(root)"
   ]
  },
  {
   "cell_type": "markdown",
   "metadata": {},
   "source": [
    "## Practice Problem\n",
    "\n",
    "Convert Sorted List to BST\n",
    "\n",
    "Hint: recursively get the middle"
   ]
  },
  {
   "cell_type": "code",
   "execution_count": null,
   "metadata": {},
   "outputs": [],
   "source": [
    "def sortedListToBST(nums):\n",
    "    # edge case\n",
    "    if len(nums) == 0: \n",
    "        return None\n",
    "    \n",
    "    # ##########Your code here########## #\n",
    "    \n",
    "    \n",
    "    # ################################## #\n",
    "    \n",
    "def recurBuild(startIndex, endIndex, nums):\n",
    "    # base case\n",
    "    if startIndex > endIndex:\n",
    "        return None\n",
    "    \n",
    "    # ##########Your code here########## #\n",
    "    \n",
    "    \n",
    "    # ################################## #"
   ]
  },
  {
   "cell_type": "code",
   "execution_count": null,
   "metadata": {},
   "outputs": [],
   "source": [
    "nums = [0,3,5,8,9]\n",
    "\n",
    "tree = sortedListToBST(nums)\n",
    "visualizeTree(tree)"
   ]
  }
 ],
 "metadata": {
  "kernelspec": {
   "display_name": "Python 3",
   "language": "python",
   "name": "python3"
  },
  "language_info": {
   "codemirror_mode": {
    "name": "ipython",
    "version": 3
   },
   "file_extension": ".py",
   "mimetype": "text/x-python",
   "name": "python",
   "nbconvert_exporter": "python",
   "pygments_lexer": "ipython3",
   "version": "3.8.5"
  }
 },
 "nbformat": 4,
 "nbformat_minor": 4
}
