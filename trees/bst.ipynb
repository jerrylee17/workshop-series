{
 "cells": [
  {
   "cell_type": "markdown",
   "metadata": {},
   "source": [
    "# Binary Search Trees\n",
    "**Agenda**\n",
    "1. BST Structure and Basic Operations\n",
    "2. Traversals\n",
    "3. Self-Balancing Trees\n",
    "3. Practice\n",
    "\n",
    "## Structure\n",
    "\n",
    "Binary Search Trees are binary trees with special properties. Each bst node has two child nodes: left and right.\n",
    "1. The value of the left child node is less than the value of the parent node\n",
    "2. The value of the right child node is greater than the value of the parent node\n",
    "\n",
    "**Overall**\n",
    "1. Nodes of the left subtree have values less than the node's value\n",
    "2. Nodes of the right subtree have values greater than the node's value\n",
    "3. Each subtree is a binary search tree\n",
    "\n",
    "<img src=\"https://cdn.programiz.com/sites/tutorial2program/files/bst-vs-not-bst.png\">\n",
    "source: programiz.com/dsa/binary-search-tree"
   ]
  },
  {
   "cell_type": "code",
   "execution_count": null,
   "metadata": {},
   "outputs": [],
   "source": [
    "from graphviz import Digraph\n",
    "# Tree Visualization by Jerry Lee\n",
    "def visualizeTree(root):\n",
    "    # Tree\n",
    "    tree = Digraph()\n",
    "    # Append root node\n",
    "    tree.node(str(root.val))\n",
    "    # Helper function to append nodes\n",
    "    def appendChildrenNodes(node):\n",
    "        # Node doesn't exist leave this thing\n",
    "        if not node:\n",
    "            return\n",
    "        # Left child\n",
    "        if node.left:\n",
    "            # Create node\n",
    "            tree.node(str(node.left.val))\n",
    "            # Create and append edge\n",
    "            edge = str(node.val) + str(node.left.val)\n",
    "            tree.edges([edge])\n",
    "            # Do the same thing on the left child\n",
    "            appendChildrenNodes(node.left)\n",
    "        # Right child\n",
    "        if node.right:\n",
    "            # Create node\n",
    "            tree.node(str(node.right.val))\n",
    "            # create and append edge\n",
    "            edge = str(node.val) + str(node.right.val)\n",
    "            tree.edges([edge])\n",
    "            # Do the same thing on the right child\n",
    "            appendChildrenNodes(node.right)\n",
    "    # Append children\n",
    "    appendChildrenNodes(root)\n",
    "    display(tree)"
   ]
  },
  {
   "cell_type": "code",
   "execution_count": null,
   "metadata": {},
   "outputs": [],
   "source": [
    "class TreeNode:\n",
    "    def __init__(self, val):\n",
    "        self.val = val\n",
    "        self.left = None\n",
    "        self.right = None\n",
    "    def __str__(self):\n",
    "        return str(self.val)"
   ]
  },
  {
   "cell_type": "markdown",
   "metadata": {},
   "source": [
    "## Basic Operations\n",
    "\n",
    "Insertion, deletion, and retrieval take `O(h)` time, where `h` is the height of the bst\n",
    "- Average case: `O(logn)`\n",
    "- Worst case: `O(n)`\n",
    "\n",
    "For optimal performance, the ideal height of a binary search tree would be `logn`, where `n` is the number of nodes, for faster insertion, deletion, and retrieval. Hence, self-balancing trees, AVLs and Red-Black Trees, are used for faster, `O(logn)`, operations.\n"
   ]
  },
  {
   "cell_type": "markdown",
   "metadata": {},
   "source": [
    "<h3>Insertion</h3>\n",
    "<img src=\"https://www.codesdope.com/staticroot/images/ds/bst9.gif\"/>\n",
    "source: codesdope.com/course/data-structures-binary-search-trees/"
   ]
  },
  {
   "cell_type": "code",
   "execution_count": null,
   "metadata": {},
   "outputs": [],
   "source": [
    "def insert(root,val):# no duplicates\n",
    "    if not root: #if root is None\n",
    "        return TreeNode(val)\n",
    "    else:\n",
    "        if val > root.val:\n",
    "            root.right = insert(root.right,val)\n",
    "        elif val < root.val:\n",
    "            root.left = insert(root.left,val)    \n",
    "    return root\n",
    "\n",
    "\n",
    "root = None\n",
    "nums = [4,2,3,6,9,5,1]\n",
    "for num in nums:\n",
    "    root = insert(root,num)\n",
    "\n",
    "visualizeTree(root)"
   ]
  },
  {
   "cell_type": "markdown",
   "metadata": {},
   "source": [
    "<h3>Search</h3>"
   ]
  },
  {
   "cell_type": "code",
   "execution_count": null,
   "metadata": {},
   "outputs": [],
   "source": [
    "def search(root,val):\n",
    "    # base case\n",
    "    if not root or root.val == val:\n",
    "        return root\n",
    "    \n",
    "    # ######your code here######## #\n",
    "    # traverse through the tree\n",
    "    \n",
    "    # ############################ #\n",
    "\n",
    "foundNode = search(root, 3)\n",
    "print(foundNode)"
   ]
  },
  {
   "cell_type": "markdown",
   "metadata": {},
   "source": [
    "## Traversals\n",
    "<pre>\n",
    "1. Inorder     Left Node Right\n",
    "2. Preorder    Node Left Right\n",
    "3. Postorder   Left Right Node\n",
    "</pre>\n",
    "<img src=\"https://media.geeksforgeeks.org/wp-content/cdn-uploads/2009/11/BST.gif\"/>\n",
    "\n"
   ]
  },
  {
   "cell_type": "code",
   "execution_count": null,
   "metadata": {},
   "outputs": [],
   "source": [
    "def inorder(root):\n",
    "    # base case\n",
    "    if not root:\n",
    "        return\n",
    "    \n",
    "    # traverse LNR\n",
    "    inorder(root.left)\n",
    "    print(root.val)\n",
    "    inorder(root.right)\n",
    "\n",
    "inorder(root)"
   ]
  },
  {
   "cell_type": "code",
   "execution_count": null,
   "metadata": {},
   "outputs": [],
   "source": [
    "def preorder(root):\n",
    "    # ##########your code here######## #\n",
    "    # base case\n",
    "    \n",
    "    # traverse NLR\n",
    "    \n",
    "    # ################################ #\n",
    "preorder(root)"
   ]
  },
  {
   "cell_type": "code",
   "execution_count": null,
   "metadata": {},
   "outputs": [],
   "source": [
    "def postorder(root):\n",
    "    # ##########your code here######## #\n",
    "    # base case\n",
    "    \n",
    "    # traverse LRN\n",
    "    \n",
    "    # ################################ #\n",
    "postorder(root)"
   ]
  },
  {
   "cell_type": "markdown",
   "metadata": {},
   "source": [
    "# Self Balancing Trees\n",
    "The advantage of using trees is the `O(h)` operation times, where `h` is the height of the tree. However, an unbalanced tree will not have a height of `logn`. Worst case run time would be `O(n)`."
   ]
  },
  {
   "cell_type": "code",
   "execution_count": null,
   "metadata": {},
   "outputs": [],
   "source": [
    "# For example:\n",
    "flatTree = None\n",
    "nums = [1,2,3]\n",
    "for num in nums:\n",
    "    flatTree = insert(flatTree,num)\n",
    "visualizeTree(flatTree)"
   ]
  },
  {
   "attachments": {},
   "cell_type": "markdown",
   "metadata": {},
   "source": [
    "<h3>AVL Trees</h3>\n",
    "\n",
    "1. The height difference of each node's subtrees is at most 1\n",
    "2. We rotate/rebalance the tree as we insert or delete nodes to ensure that the tree remains balanced\n",
    "3. faster lookup than Red Black trees\n",
    "<img src=\"https://upload.wikimedia.org/wikipedia/commons/c/c9/AVL-tree-wBalance.svg\"/>\n",
    "source: thedshandbook.com/avl-trees/\n",
    "\n",
    "<br/>\n",
    "\n",
    "<h3>Red Black Trees</h3>\n",
    "\n",
    "1. each node is painted red or black\n",
    "2. we rotate/rebalance and repaint the tree as we insert or delete nodes\n",
    "3. balancing isn't as strict as AVLs\n",
    "4. faster insertion and deletion than AVLs because we do not rotate/rebalance as much\n",
    "<img src=\"https://www.geeksforgeeks.org/wp-content/uploads/RedBlackTree.png\"/>\n",
    "source: geeksforgeeks.org"
   ]
  },
  {
   "cell_type": "code",
   "execution_count": null,
   "metadata": {},
   "outputs": [],
   "source": [
    "def getHeight(root):\n",
    "    if not root:\n",
    "        return 0\n",
    "    return max(getHeight(root.left), getHeight(root.right)) + 1\n",
    "\n",
    "getHeight(root)"
   ]
  },
  {
   "cell_type": "markdown",
   "metadata": {},
   "source": [
    "## Rotating\n",
    "<img src=\"https://upload.wikimedia.org/wikipedia/commons/3/31/Tree_rotation_animation_250x250.gif\"/>\n",
    "source: thedshandbook.com/avl-trees/\n",
    "<pre>\n",
    "Four Types of Rotation\n",
    "1. Left-Left    use right rotate\n",
    "2. Right-Right  use left rotate\n",
    "3. Right-Left   use right then left rotate\n",
    "4. Left-Right   use left then right rotate\n",
    "</pre>\n",
    "<img src=\"https://s3.amazonaws.com/hr-challenge-images/0/1436854305-b167cc766c-AVL_Tree_Rebalancing.svg.png\"/>"
   ]
  },
  {
   "cell_type": "markdown",
   "metadata": {},
   "source": [
    "<img src='data:image/png;base64,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'/>"
   ]
  },
  {
   "cell_type": "code",
   "execution_count": 1,
   "metadata": {},
   "outputs": [],
   "source": [
    "def rightRotate(q):\n",
    "    p = q.left\n",
    "    b = p.right\n",
    "    \n",
    "    p.right = q\n",
    "    q.left = b\n",
    "    \n",
    "    return p"
   ]
  },
  {
   "cell_type": "code",
   "execution_count": null,
   "metadata": {},
   "outputs": [],
   "source": [
    "def leftRotate(p):\n",
    "    # ##########Your code here########## #\n",
    "    \n",
    "    \n",
    "    # ################################## #"
   ]
  },
  {
   "cell_type": "markdown",
   "metadata": {},
   "source": [
    "## Practice Problem\n",
    "\n",
    "Convert Sorted List to BST\n",
    "\n",
    "<img src='https://blog.penjee.com/wp-content/uploads/2015/12/optimal-binary-search-tree-from-sorted-array.gif'/>\n",
    "source: penjee.com/5-gifs-to-understand-binary-search-tree/\n",
    "\n",
    "Hint: recursively get the middle"
   ]
  },
  {
   "cell_type": "code",
   "execution_count": null,
   "metadata": {},
   "outputs": [],
   "source": [
    "def sortedListToBST(nums):\n",
    "    # ##########Your code here########## #\n",
    "    \n",
    "    \n",
    "    # ################################## #\n",
    "    \n",
    "def recurBuild(startIndex, endIndex, nums):\n",
    "    # base case\n",
    "    if startIndex > endIndex:\n",
    "        return None\n",
    "    \n",
    "    # ##########Your code here########## #\n",
    "    \n",
    "    \n",
    "    # ################################## #"
   ]
  },
  {
   "cell_type": "code",
   "execution_count": null,
   "metadata": {},
   "outputs": [],
   "source": [
    "nums = [0,3,5,8,9]\n",
    "\n",
    "tree = sortedListToBST(nums)\n",
    "visualizeTree(tree)"
   ]
  }
 ],
 "metadata": {
  "kernelspec": {
   "display_name": "Python 2",
   "language": "python",
   "name": "python2"
  },
  "language_info": {
   "codemirror_mode": {
    "name": "ipython",
    "version": 2
   },
   "file_extension": ".py",
   "mimetype": "text/x-python",
   "name": "python",
   "nbconvert_exporter": "python",
   "pygments_lexer": "ipython2",
   "version": "2.7.16"
  }
 },
 "nbformat": 4,
 "nbformat_minor": 4
}
