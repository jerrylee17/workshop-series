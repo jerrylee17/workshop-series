{
 "cells": [
  {
   "cell_type": "markdown",
   "metadata": {},
   "source": [
    "# Binary Search Trees\n",
    "Binary Search Trees are binary tree data structures with special properties. Each node has two child nodes: left and right.\n",
    "1. The value of the left child node is less than the value of the node\n",
    "2. The value of the right child node is greater than the value of node\n",
    "\n",
    "Overall \n",
    "1. nodes of the left subtree have values less than the node's value\n",
    "2. nodes of the right subtree have values greater than the node's value\n",
    "3. each subtree is a binary search tree\n",
    "\n",
    "Insertion, deletion, and searching take O(h) time, where h is the height of the bst. AVL and Red-Black Trees, self balancing bst trees, are used for O(logn) operations.\n"
   ]
  },
  {
   "cell_type": "code",
   "execution_count": 1,
   "metadata": {},
   "outputs": [],
   "source": [
    "from graphviz import Digraph"
   ]
  },
  {
   "cell_type": "markdown",
   "metadata": {},
   "source": [
    "# Visualization"
   ]
  },
  {
   "cell_type": "code",
   "execution_count": 2,
   "metadata": {},
   "outputs": [],
   "source": [
    "class TreeNode:\n",
    "    def __init__(self, val):\n",
    "        self.val = val\n",
    "        self.left = None\n",
    "        self.right = None\n",
    "        # Note that there may be different variations in this"
   ]
  },
  {
   "cell_type": "code",
   "execution_count": 11,
   "metadata": {},
   "outputs": [
    {
     "name": "stdout",
     "output_type": "stream",
     "text": [
      "2\n"
     ]
    }
   ],
   "source": [
    "def insert(root,val):# no duplicates\n",
    "    if not root:\n",
    "        return TreeNode(val)\n",
    "    else:\n",
    "        if val > root.val:\n",
    "            root.right = insert(root.right,val)\n",
    "        else:\n",
    "            root.left = insert(root.left,val)    \n",
    "    return root\n",
    "\n",
    "\n",
    "\n",
    "root = None\n",
    "nums = [2,1,434,3]\n",
    "for num in nums:\n",
    "    root = insert(root,num)\n",
    "\n",
    "print(root.val)"
   ]
  },
  {
   "cell_type": "code",
   "execution_count": 12,
   "metadata": {},
   "outputs": [
    {
     "name": "stdout",
     "output_type": "stream",
     "text": [
      "3\n"
     ]
    }
   ],
   "source": [
    "def search(root,val):\n",
    "    if not root or root.val == val:\n",
    "        return root\n",
    "    \n",
    "    #######your code here#########\n",
    "    # traverse through the tree\n",
    "    if val > root.val: return search(root.right,val)\n",
    "    return search(root.left,val)\n",
    "    \n",
    "    ##############################\n",
    "\n",
    "find = search(root, 3)\n",
    "print(find.val)"
   ]
  },
  {
   "cell_type": "markdown",
   "metadata": {},
   "source": [
    "## Traversals\n",
    "1. in order     LNR\n",
    "2. pre order    NLR\n",
    "3. post order   LRN\n",
    "4. level order"
   ]
  },
  {
   "cell_type": "code",
   "execution_count": 15,
   "metadata": {},
   "outputs": [
    {
     "name": "stdout",
     "output_type": "stream",
     "text": [
      "1\n",
      "2\n",
      "3\n",
      "434\n"
     ]
    }
   ],
   "source": [
    "def inorder(root):\n",
    "    if not root:\n",
    "        return\n",
    "    inorder(root.left)\n",
    "    print(root.val)\n",
    "    inorder(root.right)\n",
    "\n",
    "inorder(root)"
   ]
  },
  {
   "cell_type": "code",
   "execution_count": 16,
   "metadata": {},
   "outputs": [
    {
     "name": "stdout",
     "output_type": "stream",
     "text": [
      "2\n",
      "1\n",
      "434\n",
      "3\n"
     ]
    }
   ],
   "source": [
    "def preorder(root):\n",
    "    ###########your code here#########\n",
    "    #base case\n",
    "    if not root:\n",
    "        return\n",
    "    #consider the order NLR\n",
    "    print(root.val)\n",
    "    preorder(root.left)\n",
    "    preorder(root.right)\n",
    "    \n",
    "    ##################################\n",
    "preorder(root)"
   ]
  },
  {
   "cell_type": "code",
   "execution_count": 17,
   "metadata": {},
   "outputs": [
    {
     "name": "stdout",
     "output_type": "stream",
     "text": [
      "1\n",
      "3\n",
      "434\n",
      "2\n"
     ]
    }
   ],
   "source": [
    "def postorder(root):\n",
    "    ###########your code here#########\n",
    "    #base case\n",
    "    if not root:\n",
    "        return\n",
    "    #consider the order LRN\n",
    "    postorder(root.left)\n",
    "    postorder(root.right)\n",
    "    print(root.val)\n",
    "    ##################################\n",
    "postorder(root)"
   ]
  },
  {
   "cell_type": "markdown",
   "metadata": {},
   "source": [
    "## Practice\n",
    "\n",
    "Convert Sorted List to BST"
   ]
  },
  {
   "cell_type": "code",
   "execution_count": 18,
   "metadata": {},
   "outputs": [],
   "source": [
    "def sortedListToBST(nums):\n",
    "    if len(nums) == 0: return None\n",
    "    mid = len(nums)//2\n",
    "    root = TreeNode(nums[mid])\n",
    "    root.left = recurBuild(0, mid - 1, nums)\n",
    "    root.right = recurBuild(mid + 1, len(nums) - 1, nums)\n",
    "    return root\n",
    "\n",
    "def recurBuild(startInd, endInd, nums):\n",
    "    if startInd > endInd:\n",
    "        return None\n",
    "    mid = (startInd + endInd)//2\n",
    "    node = TreeNode(nums[mid])\n",
    "    \n",
    "    node.left = recurBuild(startInd, mid - 1, nums)\n",
    "    node.right = recurBuild(mid + 1, endInd, nums)\n",
    "    return node"
   ]
  },
  {
   "cell_type": "code",
   "execution_count": 23,
   "metadata": {},
   "outputs": [
    {
     "name": "stdout",
     "output_type": "stream",
     "text": [
      "9\n"
     ]
    }
   ],
   "source": [
    "nums = [-10,-3,0,5,9]\n",
    "tree = sortedListToBST(nums)"
   ]
  }
 ],
 "metadata": {
  "kernelspec": {
   "display_name": "Python 3",
   "language": "python",
   "name": "python3"
  },
  "language_info": {
   "codemirror_mode": {
    "name": "ipython",
    "version": 3
   },
   "file_extension": ".py",
   "mimetype": "text/x-python",
   "name": "python",
   "nbconvert_exporter": "python",
   "pygments_lexer": "ipython3",
   "version": "3.8.5"
  }
 },
 "nbformat": 4,
 "nbformat_minor": 4
}
