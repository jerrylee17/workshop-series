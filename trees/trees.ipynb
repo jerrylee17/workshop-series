{
 "cells": [
  {
   "cell_type": "markdown",
   "metadata": {},
   "source": [
    "# Trees\n",
    "\n",
    "Trees are a hierarchal data structure made up of nodes. To be honest, I have never used them outside of competitive programming or interviews, but they seem to be important and relevant somehow. For this workshop, I will be teaching binary trees (with the exception of a Trie) since they are the most common trees.\n",
    "\n",
    "\n",
    "Some topics that will be covered are:\n",
    "\n",
    "1. Tree/Node structure\n",
    "1. Traversals\n",
    "1. Trie\n",
    "1. Competitive programming\n"
   ]
  },
  {
   "cell_type": "markdown",
   "metadata": {},
   "source": [
    "Run the command below to import the module required to display trees"
   ]
  },
  {
   "cell_type": "code",
   "execution_count": null,
   "metadata": {},
   "outputs": [],
   "source": [
    "from graphviz import Digraph"
   ]
  },
  {
   "cell_type": "markdown",
   "metadata": {},
   "source": [
    "## Tree structure\n",
    "\n",
    "First, we need to define the structure of a node within a tree. A node will usually have a value and pointers to its children. However, when the tree gets more complicated, it may have more attributes"
   ]
  },
  {
   "cell_type": "code",
   "execution_count": null,
   "metadata": {},
   "outputs": [],
   "source": [
    "class TreeNode:\n",
    "    def __init__(self, val):\n",
    "        self.val = val\n",
    "        self.left = None\n",
    "        self.right = None\n",
    "        # Note that there may be different variations in this\n",
    "        # Some Tree structures may have the self.children\n",
    "        # in place of left/right (self.children = None)"
   ]
  },
  {
   "cell_type": "markdown",
   "metadata": {},
   "source": [
    "Now that the node has been declared, it is time to make a tree!"
   ]
  },
  {
   "cell_type": "code",
   "execution_count": null,
   "metadata": {},
   "outputs": [],
   "source": [
    "# Hardcoding the tree (bad idea)\n",
    "root = TreeNode(1)\n",
    "root.left = TreeNode(2)\n",
    "root.right = TreeNode(3)\n",
    "root.left.left = TreeNode(4)\n",
    "root.left.right = TreeNode(5)\n",
    "root.right.left = TreeNode(6)\n",
    "root.right.right = TreeNode(7)\n",
    "\n",
    "# Visualizing the tree\n",
    "def visualizeTree(root):\n",
    "    # Tree\n",
    "    tree = Digraph()\n",
    "    # Append root node\n",
    "    tree.node(str(root.val))\n",
    "    # Helper function to append nodes\n",
    "    def appendChildrenNodes(node):\n",
    "        # Node doesn't exist leave this thing\n",
    "        if not node:\n",
    "            return\n",
    "        # Left child\n",
    "        if node.left:\n",
    "            # Create node\n",
    "            tree.node(str(node.left.val))\n",
    "            # Create and append edge\n",
    "            edge = str(node.val) + str(node.left.val)\n",
    "            tree.edges([edge])\n",
    "            # Do the same thing on the left child\n",
    "            appendChildrenNodes(node.left)\n",
    "        # Right child\n",
    "        if node.right:\n",
    "            # Create node\n",
    "            tree.node(str(node.right.val))\n",
    "            # create and append edge\n",
    "            edge = str(node.val) + str(node.right.val)\n",
    "            tree.edges([edge])\n",
    "            # Do the same thing on the right child\n",
    "            appendChildrenNodes(node.right)\n",
    "    # Append children\n",
    "    appendChildrenNodes(root)\n",
    "    display(tree)\n",
    "\n",
    "# Visualize the tree\n",
    "visualizeTree(root)\n",
    "    "
   ]
  },
  {
   "cell_type": "markdown",
   "metadata": {},
   "source": [
    "The thing generated above is the general hierarchal structure of a binary tree. On the top of the tree, we have the root node (Node 1). The root node has 2 childiren: Nodes 2 and 3. "
   ]
  },
  {
   "cell_type": "markdown",
   "metadata": {},
   "source": [
    "## Tree Traversal\n",
    "\n",
    "Tree traversal is used when you want to print out the elements of a tree. The three main methods of tree traversal are *inorder*, *preorder*, *postorder*. \n",
    "\n",
    "*Inorder traversal* prints in the order of left, parent, right. In the tree example we have above, inorder will yield 4,2,5,1,6,3,7.\n",
    "\n",
    "*Preorder traversal* prints in the order of parent, left, right. In the tree example, preorder yields 1,2,4,5,3,6,7\n",
    "\n",
    "*Postorder traversal* prints in the order of right, left, parent. In the example, we get 7,6,3,5,4,2,1"
   ]
  },
  {
   "cell_type": "markdown",
   "metadata": {},
   "source": [
    "#### Inorder traversal implementation\n",
    "\n",
    "The inorder traversal implementation can be seen below"
   ]
  },
  {
   "cell_type": "code",
   "execution_count": null,
   "metadata": {},
   "outputs": [],
   "source": [
    "def inOrderTraversal(node):\n",
    "    # if the node\n",
    "    if not node:\n",
    "        return\n",
    "    inOrderTraversal(node.left)\n",
    "    print(node.val)\n",
    "    inOrderTraversal(node.right)\n",
    "\n",
    "inOrderTraversal(root)"
   ]
  },
  {
   "cell_type": "markdown",
   "metadata": {},
   "source": [
    "Looks simple, right? Try implementing your own *preorder* and *postorder* traversal"
   ]
  },
  {
   "cell_type": "markdown",
   "metadata": {},
   "source": [
    "#### Preorder traversal\n",
    "\n",
    "Implement the Preorder traversal here!\n"
   ]
  },
  {
   "cell_type": "code",
   "execution_count": null,
   "metadata": {},
   "outputs": [],
   "source": [
    "# Pre order traversal\n",
    "def preOrderTraversal(node):\n",
    "    # Put your code here\n",
    "    pass\n",
    "\n",
    "\n",
    "preOrderTraversal(root)"
   ]
  },
  {
   "cell_type": "markdown",
   "metadata": {},
   "source": [
    "#### Postorder traversal\n",
    "\n",
    "Implement the Postorder traversal here!"
   ]
  },
  {
   "cell_type": "code",
   "execution_count": null,
   "metadata": {},
   "outputs": [],
   "source": [
    "# Post order traversal\n",
    "def postOrderTraversal(node):\n",
    "    # Put your code here\n",
    "    pass\n",
    "\n",
    "\n",
    "postOrderTraversal(root)"
   ]
  },
  {
   "cell_type": "markdown",
   "metadata": {},
   "source": [
    "# Trie\n",
    "\n",
    "A Trie is literally a tree of characters/combination of characters. Instead of storing integers, it stores words. Every node in a trie has a value, children (often more than a binary tree), and a marker determining if it is the end of a word"
   ]
  },
  {
   "cell_type": "code",
   "execution_count": null,
   "metadata": {},
   "outputs": [],
   "source": [
    "class TrieNode:\n",
    "    def __init__(self, val, id = 0):\n",
    "        self.val = val\n",
    "        self.children = []\n",
    "        self.end = False\n",
    "        # For visualization -- ignore this parameter\n",
    "        self._id = id"
   ]
  },
  {
   "cell_type": "markdown",
   "metadata": {},
   "source": [
    "Now time to populate the Trie!"
   ]
  },
  {
   "cell_type": "code",
   "execution_count": null,
   "metadata": {},
   "outputs": [],
   "source": [
    "# Visualizing the trie\n",
    "def visualizeTrie(root):\n",
    "    # Tree\n",
    "    trie = Digraph()\n",
    "    # Append root node\n",
    "    trie.node(str(root._id), str(root.val))\n",
    "    # Helper function to append nodes\n",
    "    def appendChildrenNodes(node):\n",
    "        # Node doesn't exist leave this thing\n",
    "        if not node:\n",
    "            return\n",
    "        # Make node for each child\n",
    "        for child in node.children:\n",
    "            # Create node\n",
    "            trie.node(\n",
    "                str(child._id), \n",
    "                str(child.val), \n",
    "                shape=('square' if child.end else 'circle'), \n",
    "                width='0.5', \n",
    "                height='0.5'\n",
    "            )\n",
    "            # Append edge\n",
    "            trie.edge(str(node._id), str(child._id))\n",
    "            # Do the same thing on the left child\n",
    "            appendChildrenNodes(child)\n",
    "    \n",
    "    # Append children\n",
    "    appendChildrenNodes(root)\n",
    "    display(trie)"
   ]
  },
  {
   "cell_type": "code",
   "execution_count": null,
   "metadata": {},
   "outputs": [],
   "source": [
    "words = ['tree', 'treehouse', 'trees', 'thanks', 'software', 'tricycle']\n",
    "# words = ['thai', 'is', 'a', 'potato']\n",
    "\n",
    "# Make root node\n",
    "trieroot = TrieNode(' ')\n",
    "# Helper function to populate trie based on word\n",
    "def addWord(root, word):\n",
    "    # The end of a word\n",
    "    if len(word) == 0:\n",
    "        root.end = True\n",
    "        return\n",
    "    # Traverse children to find the next node\n",
    "    # If child not found then add it\n",
    "    for child in root.children:\n",
    "        # Found correct child\n",
    "        if child.val == word[0]:\n",
    "            addWord(child, word[1:])\n",
    "            break\n",
    "    # If child not found, make new node\n",
    "    else:\n",
    "        newNode = TrieNode(word[0])\n",
    "        root.children.append(newNode)\n",
    "        addWord(root.children[-1], word[1:])\n",
    "\n",
    "# Iterate through the words\n",
    "for word in words:\n",
    "    # Iterate through characters in the word\n",
    "    addWord(trieroot, word)\n",
    "\n",
    "# Give nodes ID's for visualization\n",
    "def giveID(root, queue):\n",
    "    elements = getElements(root, queue)\n",
    "    root._id = 0\n",
    "    i = 1\n",
    "    for elem in queue:\n",
    "        elem._id = i\n",
    "        i += 1\n",
    "\n",
    "# Helper function for visualization\n",
    "def getElements(root, queue):\n",
    "    for child in root.children:\n",
    "        queue.append(child)\n",
    "        giveID(child, queue)\n",
    "    return queue\n",
    "\n",
    "giveID(trieroot, [])\n",
    "visualizeTrie(trieroot)"
   ]
  },
  {
   "cell_type": "markdown",
   "metadata": {},
   "source": [
    "Observe the trie. What is so special about this data structure?"
   ]
  },
  {
   "cell_type": "markdown",
   "metadata": {},
   "source": [
    "### Your turn! \n",
    "\n",
    "Create a function to insert a new word in the trie without copying my insert word code :)"
   ]
  },
  {
   "cell_type": "code",
   "execution_count": null,
   "metadata": {},
   "outputs": [],
   "source": [
    "# Create function here!\n",
    "def insertWord(root, word):\n",
    "    # Put your code here!\n",
    "    pass\n",
    "\n",
    "insertWord(trieroot, 'sce')"
   ]
  },
  {
   "cell_type": "markdown",
   "metadata": {},
   "source": [
    "## Competitive programming"
   ]
  },
  {
   "cell_type": "markdown",
   "metadata": {},
   "source": [
    "This is a competitive programming problem, so it is more challenging than any of the exercises that we have done. You really gotta think outside the box\n",
    "\n",
    "### [Kitten on a tree](https://open.kattis.com/problems/kitten)\n",
    "\n",
    "The cat is stuck on a tree. Find the path to the ground.\n",
    "\n",
    "##### INPUT\n",
    "\n",
    "**First line**\n",
    "\n",
    "Integer representing the branch the cat is stuck on\n",
    "\n",
    "**Next inputs**\n",
    "\n",
    "Formatted like `a, b1, b2, ...` where the first integer in the line is the parent node and the rest of the integers are child nodes of the parent.\n",
    "\n",
    "##### OUTPUT\n",
    "\n",
    "Output the path (from the cat's location to the ground)\n",
    "\n",
    "*Note: I have given some starting code for this problem for parsing the inputs/etc. However, my code does not parse the inputs for you and you need to build off of the example code*"
   ]
  },
  {
   "cell_type": "code",
   "execution_count": null,
   "metadata": {},
   "outputs": [],
   "source": [
    "# If any of these parsing methods do not help, just comment them out\n",
    "\n",
    "# Take in a single integer (First line)\n",
    "catBranch = int(input())\n",
    "\n",
    "# Take in a line (Ex: 4 3 1 2 into 4, [3,1,2] as seen in Next inputs)\n",
    "'''\n",
    "Explanation for this parsing:\n",
    "input().split(' ') takes in the whole line and convert is to a list of strings\n",
    "map(int, <array>) typecasts all elements of the list generated into integers\n",
    "list(map()) typecasts the map object into a list\n",
    "a, *b = list() means a gets the first element and b gets the rest (in an array)\n",
    "'''\n",
    "a, *b = list(map(int, input().split(' ')))\n",
    "\n",
    "\n",
    "# Suppose your output is an array and you want to format it, use this\n",
    "# Ex: sample = [2, 3, 4] to '2 3 4'\n",
    "sample = [2,3,4]\n",
    "print(' '.join(list(map(str, sample))))"
   ]
  }
 ],
 "metadata": {
  "kernelspec": {
   "display_name": "Python 3",
   "language": "python",
   "name": "python3"
  },
  "language_info": {
   "codemirror_mode": {
    "name": "ipython",
    "version": 3
   },
   "file_extension": ".py",
   "mimetype": "text/x-python",
   "name": "python",
   "nbconvert_exporter": "python",
   "pygments_lexer": "ipython3",
   "version": "3.6.9"
  }
 },
 "nbformat": 4,
 "nbformat_minor": 2
}
