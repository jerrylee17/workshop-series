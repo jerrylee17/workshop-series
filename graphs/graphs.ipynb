{
 "cells": [
  {
   "cell_type": "markdown",
   "metadata": {},
   "source": [
    "# Graphs (Part 1: creation)\n",
    "\n",
    "Graphs are an advanced data structure that is often asked in interviews for more selective companies, like Facebook. They are also widely used in the industry (for example, computer networking). In this workshop, you will learn how to create graphs. \n",
    "\n",
    "Topics that we will cover in this workshop are:\n",
    "1. Adjacency Matrix\n",
    "1. Adjacency List\n",
    "1. ListNodes\n",
    "1. Tuples\n",
    "1. Competitive programming"
   ]
  },
  {
   "cell_type": "code",
   "execution_count": null,
   "metadata": {},
   "outputs": [],
   "source": [
    "from graphviz import Digraph\n",
    "import pprint\n",
    "pp = pprint.PrettyPrinter(indent=4, width=20)"
   ]
  },
  {
   "attachments": {},
   "cell_type": "markdown",
   "metadata": {},
   "source": [
    "## Adjacency Matrix\n",
    "\n",
    "An adjacency matrix stores the graph in a form of a matrix. The graph we are displaying is this.\n",
    "![image-2.png](https://cdn.discordapp.com/attachments/754559464644018259/764697286835306496/unknown.png)"
   ]
  },
  {
   "cell_type": "code",
   "execution_count": null,
   "metadata": {},
   "outputs": [],
   "source": [
    "graphMatrix = [\n",
    "    [0,1,0,0,1],\n",
    "    [1,0,1,1,1],\n",
    "    [0,1,0,1,0],\n",
    "    [0,1,1,0,1],\n",
    "    [1,1,0,1,0],\n",
    "]\n",
    "\n",
    "def visualizeGraphMatrix(matrix):\n",
    "    graph = Digraph(edge_attr={'arrowhead':'none'})\n",
    "    # Create nodes\n",
    "    for i in range(len(matrix)):\n",
    "        graph.node(str(i))\n",
    "    # If the node is a 1, append edge\n",
    "    for i, row in enumerate(matrix):\n",
    "        for j in range(i):\n",
    "            if row[j] == 1:\n",
    "                graph.edge(str(i), str(j))\n",
    "            else:\n",
    "                continue\n",
    "    return graph\n",
    "\n",
    "\n",
    "graph = visualizeGraphMatrix(graphMatrix)        \n",
    "pp.pprint(graphMatrix)\n",
    "display(graph)"
   ]
  },
  {
   "cell_type": "markdown",
   "metadata": {},
   "source": [
    "## Adjacency list\n",
    "\n",
    "An adjancency list stores the graph in the form of a dictionary. The graph we are displaying with the list is shown below. \n",
    "![image-2.png](https://cdn.discordapp.com/attachments/754559464644018259/764697286835306496/unknown.png)"
   ]
  },
  {
   "cell_type": "code",
   "execution_count": null,
   "metadata": {},
   "outputs": [],
   "source": [
    "graphList = {\n",
    "    0: [1,4],\n",
    "    1: [2,3,4],\n",
    "    2: [3],\n",
    "    3: [4],\n",
    "    4: []\n",
    "}\n",
    "\n",
    "def visualizeGraphList(graphList):\n",
    "    graph = Digraph(edge_attr={'arrowhead':'none'})\n",
    "    # Create nodes\n",
    "    for i in range(len(graphList.keys())):\n",
    "        graph.node(str(i))\n",
    "    # If the node is a 1, append edge\n",
    "    for key, value in graphList.items():\n",
    "        for x in value:\n",
    "            graph.edge(str(key), str(x))\n",
    "    return graph\n",
    "\n",
    "graph = visualizeGraphList(graphList)\n",
    "pp.pprint(graphList)\n",
    "display(graph)"
   ]
  },
  {
   "attachments": {},
   "cell_type": "markdown",
   "metadata": {},
   "source": [
    "## Tuples\n",
    "\n",
    "I am not sure how common this method of storing graphs is, but I used it recently in an [ICPC Problem](https://open.kattis.com/contests/ar8k6c/problems/squawk). The graph is shown below.\n",
    "![image](https://cdn.discordapp.com/attachments/754559464644018259/764707887368896532/unknown.png)"
   ]
  },
  {
   "cell_type": "code",
   "execution_count": null,
   "metadata": {},
   "outputs": [],
   "source": [
    "# Generally given in problems where you would use tuples\n",
    "numNodes = 5\n",
    "graphTuples = [\n",
    "    (0, 1),\n",
    "    (0, 3),\n",
    "    (1, 2),\n",
    "    (2, 3),\n",
    "    (2, 4),\n",
    "]\n",
    "\n",
    "def visualizeGraphTuple(graphTuples, numNodes):\n",
    "    graph = Digraph(edge_attr={'arrowhead':'none'})\n",
    "    # Create nodes\n",
    "    for i in range(numNodes):\n",
    "        graph.node(str(i))\n",
    "    # If the node is a 1, append edge\n",
    "    for node1, node2 in graphTuples:\n",
    "        graph.edge(str(node1), str(node2))\n",
    "    return graph\n",
    "\n",
    "graph = visualizeGraphTuple(graphTuples, numNodes)\n",
    "pp.pprint(graphTuples)\n",
    "display(graph)"
   ]
  },
  {
   "cell_type": "code",
   "execution_count": null,
   "metadata": {},
   "outputs": [],
   "source": []
  },
  {
   "cell_type": "markdown",
   "metadata": {},
   "source": [
    "## Listnode\n",
    "\n",
    "We will be using an array of Listnodes to create a graph (similar to how we created trees in the last workshop). This method of creating a graph is very uncommon in algorithmsdue to how much space it takes and how inefficient it may be. However, since the ListNode is a class, it opens up more operations you can do with each node. The graph we will be creating is shown below\n",
    "![image-2.png](https://cdn.discordapp.com/attachments/754559464644018259/764697286835306496/unknown.png)"
   ]
  },
  {
   "cell_type": "code",
   "execution_count": null,
   "metadata": {},
   "outputs": [],
   "source": [
    "class ListNode:\n",
    "    def __init__(self, val):\n",
    "        self.val = val\n",
    "        self.neighbors = []\n",
    "    def grabNeighbors(self):\n",
    "        return self.neighbors\n",
    "    def addNeighbor(self, node):\n",
    "        self.neighbors.append(node)"
   ]
  },
  {
   "cell_type": "code",
   "execution_count": null,
   "metadata": {
    "scrolled": true
   },
   "outputs": [],
   "source": [
    "# Creating listnodes from 0 to 4\n",
    "graph = []\n",
    "for i in range(5):\n",
    "    node = ListNode(i)\n",
    "    graph.append(node)\n",
    "\n",
    "# Manually creating the edges    \n",
    "edges = [\n",
    "    (0,1),\n",
    "    (0,4),\n",
    "    (1,2),\n",
    "    (1,3),\n",
    "    (1,4),\n",
    "    (2,3),\n",
    "    (3,4),\n",
    "]\n",
    "for edge1, edge2 in edges:\n",
    "    graph[edge1].addNeighbor(graph[edge2])\n",
    "    # Making this symmetrical\n",
    "    graph[edge2].addNeighbor(graph[edge1])\n",
    "    \n",
    "\n",
    "for node in graph:\n",
    "    print(\"Node:\", node.val)\n",
    "    neighbors = node.grabNeighbors()\n",
    "    print(\"Its neighbors are: \", end=' ')\n",
    "    for n in neighbors:\n",
    "        print(n.val, end=' ')\n",
    "    print()\n"
   ]
  },
  {
   "cell_type": "markdown",
   "metadata": {},
   "source": [
    "## Competitive programming\n",
    "\n",
    "As mentioned earlier, graphs are really common in competitive programming. The problem that we will solve is [Squawk Virus](https://open.kattis.com/contests/ar8k6c/problems/squawk)\n",
    "\n",
    "TLDR:\n",
    "There is a virus that infects a node in a graph. The next minute, the node broadcasts \"squawk\" to its surrounding nodes. When a node receives n \"squawk\"s, it will broadcast that many squawks to all of its neighbors. Find the number of squawks after t time.\n",
    "\n",
    "Test data\n",
    "```\n",
    "5 5 0 3\n",
    "0 1\n",
    "0 3\n",
    "1 2\n",
    "2 3\n",
    "2 4\n",
    "```\n"
   ]
  },
  {
   "cell_type": "code",
   "execution_count": null,
   "metadata": {},
   "outputs": [],
   "source": [
    "# Takes in input\n",
    "# n = number of users (nodes in graph)\n",
    "# m = number of links (edges in graph)\n",
    "# s = index of infected user\n",
    "# t = time to determine how many squawks there are \n",
    "n, m, s, t = list(map(int, input().split(' ')))\n",
    "\n",
    "# links = edges in graph\n",
    "links = []\n",
    "# squawks = nodes in graph\n",
    "squawks = [0 for i in range(n)]\n",
    "\n",
    "# Creating graph\n",
    "for _ in range(m):\n",
    "    x, y = list(map(int, input().split(' ')))\n",
    "    connection = (x, y)\n",
    "    links.append(connection)\n",
    "    # Duplicating so its symmetrical\n",
    "    connection = (y, x)\n",
    "    links.append(connection)\n",
    "# Sorting graph nodes\n",
    "links.sort(key=lambda x: (x[0], x[1]))\n",
    "\n",
    "\n",
    "\n"
   ]
  }
 ],
 "metadata": {
  "kernelspec": {
   "display_name": "Python 3",
   "language": "python",
   "name": "python3"
  },
  "language_info": {
   "codemirror_mode": {
    "name": "ipython",
    "version": 3
   },
   "file_extension": ".py",
   "mimetype": "text/x-python",
   "name": "python",
   "nbconvert_exporter": "python",
   "pygments_lexer": "ipython3",
   "version": "3.8.5"
  }
 },
 "nbformat": 4,
 "nbformat_minor": 2
}
